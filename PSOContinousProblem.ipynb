{
 "cells": [
  {
   "cell_type": "code",
   "execution_count": 144,
   "id": "725465bf",
   "metadata": {},
   "outputs": [],
   "source": [
    "import random"
   ]
  },
  {
   "cell_type": "code",
   "execution_count": 145,
   "id": "31644176",
   "metadata": {},
   "outputs": [],
   "source": [
    "def calculate_obj_func(x1,x2):\n",
    "    return ((x1**2)+(x2**2))"
   ]
  },
  {
   "cell_type": "code",
   "execution_count": 146,
   "id": "ab3e0927",
   "metadata": {},
   "outputs": [],
   "source": [
    "# Step 1.1 : Parameter initialization:\n",
    "ps = 3 # --> 0,1,2\n",
    "c1 = 2\n",
    "c2 = 2\n",
    "w = 0.5"
   ]
  },
  {
   "cell_type": "code",
   "execution_count": 147,
   "id": "3797911f",
   "metadata": {},
   "outputs": [],
   "source": [
    "# Step 1.2 : Generate the initial position\n",
    "#generate initial population (random generation)\n",
    "list_position = []\n",
    "for particle in range(ps):\n",
    "    x1 = random.uniform(-5,10)\n",
    "    x2 = random.uniform(-5,10)\n",
    "    list_position.append([x1,x2])"
   ]
  },
  {
   "cell_type": "code",
   "execution_count": 148,
   "id": "1ec04ae5",
   "metadata": {},
   "outputs": [],
   "source": [
    "# Step 1.3 :initialize the velocity of each particle\n",
    "list_velocity = []\n",
    "for particle in range(ps):\n",
    "    v1 = random.uniform(-5,5)\n",
    "    v2 = random.uniform(-5,5)\n",
    "    list_velocity.append([v1,v2])"
   ]
  },
  {
   "cell_type": "code",
   "execution_count": 149,
   "id": "2038608e",
   "metadata": {},
   "outputs": [],
   "source": [
    "#Step 2.1: Evaluate the obj value of each particle\n",
    "list_obj_value = []\n",
    "for par in range(ps):\n",
    "    current_obj = calculate_obj_func(list_position[par][0],list_position[par][1])\n",
    "    list_obj_value.append(current_obj)"
   ]
  },
  {
   "cell_type": "code",
   "execution_count": 150,
   "id": "638489dd",
   "metadata": {},
   "outputs": [],
   "source": [
    "# Step 2.2 : Record the current position as \"particle best(pbi)\"\n",
    "global_best_fitness = min(list_obj_value)\n",
    "\n",
    "#finding the index of the best_obj:\n",
    "idx = list_obj_value.index(global_best_fitness)\n",
    "\n",
    "#record the particle best position:\n",
    "pbi = list_position\n",
    "\n",
    "#record the global best position\n",
    "gbi = list_position[idx]"
   ]
  },
  {
   "cell_type": "code",
   "execution_count": 151,
   "id": "7dbad9a5",
   "metadata": {},
   "outputs": [],
   "source": [
    "def update_vel(v_id, pb_id, x_id, gb_d):\n",
    "    vel = v_id * w + c1*random.random()*(pb_id - x_id) + c2*random.random()*(gb_d - x_id)\n",
    "    return (vel)"
   ]
  },
  {
   "cell_type": "code",
   "execution_count": 153,
   "id": "8fed7738",
   "metadata": {},
   "outputs": [
    {
     "name": "stdout",
     "output_type": "stream",
     "text": [
      "global best obj 0.0 position [-1.3213661109447663e-162, 1.135444010188206e-162]\n"
     ]
    }
   ],
   "source": [
    "#let's begin the for loop\n",
    "number_iterations = 5000\n",
    "x_id = 0\n",
    "dimension = 2\n",
    "for i in range(number_iterations):\n",
    "    for par in range(ps):\n",
    "        new_position1 = 0\n",
    "        new_position2 = 0\n",
    "        for d in range (dimension):\n",
    "            #update the first dimension of our velocity of each particle:\n",
    "            list_velocity[par][d] = update_vel(v_id = list_velocity[par][d],\n",
    "                                pb_id = pbi[par][d],\n",
    "                                x_id = list_position[par][d],\n",
    "                                gb_d = gbi[d])\n",
    "            if d == 0:\n",
    "                #update the first dimension of our position of each particle:\n",
    "                new_position1 = list_velocity[par][d] + list_position[par][d]\n",
    "            else:\n",
    "                new_position2 = list_velocity[par][d] + list_position[par][d]\n",
    "            \n",
    "        fitness = calculate_obj_func(new_position1,new_position2)\n",
    "        if fitness < list_obj_value[par]:\n",
    "            #subtitute the particle best fitness with current fitness\n",
    "            list_obj_value[par] = fitness\n",
    "            #subtitute previous particle best position with the new position\n",
    "            pbi[par] = [new_position1,new_position2]\n",
    "            \n",
    "        if fitness < global_best_fitness:\n",
    "            #subtitute the global best fitness with current fitness\n",
    "            global_best_fitness = fitness\n",
    "            #subtitute previous position with the new position\n",
    "            gbi =  [new_position1,new_position2]\n",
    "        \n",
    "print(f\"global best obj {global_best_fitness} position {gbi}\")   "
   ]
  },
  {
   "cell_type": "code",
   "execution_count": null,
   "id": "0be0f937",
   "metadata": {},
   "outputs": [],
   "source": []
  }
 ],
 "metadata": {
  "kernelspec": {
   "display_name": "Python 3",
   "language": "python",
   "name": "python3"
  },
  "language_info": {
   "codemirror_mode": {
    "name": "ipython",
    "version": 3
   },
   "file_extension": ".py",
   "mimetype": "text/x-python",
   "name": "python",
   "nbconvert_exporter": "python",
   "pygments_lexer": "ipython3",
   "version": "3.8.8"
  }
 },
 "nbformat": 4,
 "nbformat_minor": 5
}
